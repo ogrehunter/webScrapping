{
 "cells": [
  {
   "cell_type": "code",
   "execution_count": 1,
   "metadata": {},
   "outputs": [],
   "source": [
    "from twython import Twython\n",
    "import pandas as pd"
   ]
  },
  {
   "cell_type": "code",
   "execution_count": 2,
   "metadata": {},
   "outputs": [],
   "source": [
    "#Log in Twitter API\n",
    "TWITTER_APP_KEY = \"6rtcf3ZJLKgUDZzR8df6hFOlH\"\n",
    "TWITTER_APP_KEY_SECRET = \"RPNyZPTAXFhpeK0BGTXkkmV5IZ11MnEgozpj3LM1UhTp1TY4JO\"\n",
    "TWITTER_ACCESS_TOKEN = \"2569127827-rBazShaEn94wzXVBOaHYi3efw7kshh0q7rvpxza\"\n",
    "TWITTER_ACCESS_TOKEN_SECRET = \"N9DpSIZCOZwTCCHbof9qo25lquUmdEiMuT6FOtwIJUMop\""
   ]
  },
  {
   "cell_type": "code",
   "execution_count": 3,
   "metadata": {},
   "outputs": [],
   "source": [
    "t = Twython(app_key=TWITTER_APP_KEY, \n",
    "            app_secret=TWITTER_APP_KEY_SECRET, \n",
    "            oauth_token=TWITTER_ACCESS_TOKEN, \n",
    "            oauth_token_secret=TWITTER_ACCESS_TOKEN_SECRET)"
   ]
  },
  {
   "cell_type": "code",
   "execution_count": 8,
   "metadata": {},
   "outputs": [],
   "source": [
    "#Query\n",
    "term = 'Pajak'\n",
    "tweet_metadatas = t.search(q=term,count=150,result_type='recent',lang='id')"
   ]
  },
  {
   "cell_type": "code",
   "execution_count": 9,
   "metadata": {},
   "outputs": [],
   "source": [
    "#Scrapping\n",
    "data_list = []\n",
    "for tweet in tweet_metadatas['statuses']:\n",
    "    meta = dict()\n",
    "    meta['tweet'] = tweet['text']\n",
    "    meta['timestamp'] = tweet['created_at']\n",
    "    meta['username'] = tweet['user']['screen_name']\n",
    "    \n",
    "    data_list.append(meta)"
   ]
  },
  {
   "cell_type": "code",
   "execution_count": 10,
   "metadata": {},
   "outputs": [
    {
     "data": {
      "text/html": [
       "<div>\n",
       "<style scoped>\n",
       "    .dataframe tbody tr th:only-of-type {\n",
       "        vertical-align: middle;\n",
       "    }\n",
       "\n",
       "    .dataframe tbody tr th {\n",
       "        vertical-align: top;\n",
       "    }\n",
       "\n",
       "    .dataframe thead th {\n",
       "        text-align: right;\n",
       "    }\n",
       "</style>\n",
       "<table border=\"1\" class=\"dataframe\">\n",
       "  <thead>\n",
       "    <tr style=\"text-align: right;\">\n",
       "      <th></th>\n",
       "      <th>timestamp</th>\n",
       "      <th>tweet</th>\n",
       "      <th>username</th>\n",
       "    </tr>\n",
       "  </thead>\n",
       "  <tbody>\n",
       "    <tr>\n",
       "      <th>0</th>\n",
       "      <td>Sat Oct 27 04:15:47 +0000 2018</td>\n",
       "      <td>@IHarefa_94 Kak, paket internet only speed 10M...</td>\n",
       "      <td>TelkomCare</td>\n",
       "    </tr>\n",
       "    <tr>\n",
       "      <th>1</th>\n",
       "      <td>Sat Oct 27 04:15:35 +0000 2018</td>\n",
       "      <td>RT @RamliRizal: Jangan asal nyeplak, banyak ba...</td>\n",
       "      <td>themasterPAS46</td>\n",
       "    </tr>\n",
       "    <tr>\n",
       "      <th>2</th>\n",
       "      <td>Sat Oct 27 04:15:14 +0000 2018</td>\n",
       "      <td>RT @RamliRizal: Jangan asal nyeplak, banyak ba...</td>\n",
       "      <td>IkhsanRamadan_</td>\n",
       "    </tr>\n",
       "    <tr>\n",
       "      <th>3</th>\n",
       "      <td>Sat Oct 27 04:14:46 +0000 2018</td>\n",
       "      <td>RT @RamliRizal: Jangan asal nyeplak, banyak ba...</td>\n",
       "      <td>Antares90252979</td>\n",
       "    </tr>\n",
       "    <tr>\n",
       "      <th>4</th>\n",
       "      <td>Sat Oct 27 04:14:42 +0000 2018</td>\n",
       "      <td>Bude kardus anak manja wkwk . ...sedooot pajak...</td>\n",
       "      <td>sujatmix</td>\n",
       "    </tr>\n",
       "  </tbody>\n",
       "</table>\n",
       "</div>"
      ],
      "text/plain": [
       "                        timestamp  \\\n",
       "0  Sat Oct 27 04:15:47 +0000 2018   \n",
       "1  Sat Oct 27 04:15:35 +0000 2018   \n",
       "2  Sat Oct 27 04:15:14 +0000 2018   \n",
       "3  Sat Oct 27 04:14:46 +0000 2018   \n",
       "4  Sat Oct 27 04:14:42 +0000 2018   \n",
       "\n",
       "                                               tweet         username  \n",
       "0  @IHarefa_94 Kak, paket internet only speed 10M...       TelkomCare  \n",
       "1  RT @RamliRizal: Jangan asal nyeplak, banyak ba...   themasterPAS46  \n",
       "2  RT @RamliRizal: Jangan asal nyeplak, banyak ba...   IkhsanRamadan_  \n",
       "3  RT @RamliRizal: Jangan asal nyeplak, banyak ba...  Antares90252979  \n",
       "4  Bude kardus anak manja wkwk . ...sedooot pajak...         sujatmix  "
      ]
     },
     "execution_count": 10,
     "metadata": {},
     "output_type": "execute_result"
    }
   ],
   "source": [
    "#Visual\n",
    "data = pd.DataFrame(data_list)\n",
    "data.head()"
   ]
  },
  {
   "cell_type": "code",
   "execution_count": 11,
   "metadata": {},
   "outputs": [],
   "source": [
    "#Export\n",
    "writer = pd.ExcelWriter('twitter.xlsx')\n",
    "data.to_excel(writer,'Sheet1',index=False)\n",
    "writer.save()"
   ]
  },
  {
   "cell_type": "code",
   "execution_count": null,
   "metadata": {},
   "outputs": [],
   "source": []
  }
 ],
 "metadata": {
  "kernelspec": {
   "display_name": "Python 3",
   "language": "python",
   "name": "python3"
  },
  "language_info": {
   "codemirror_mode": {
    "name": "ipython",
    "version": 3
   },
   "file_extension": ".py",
   "mimetype": "text/x-python",
   "name": "python",
   "nbconvert_exporter": "python",
   "pygments_lexer": "ipython3",
   "version": "3.6.6"
  }
 },
 "nbformat": 4,
 "nbformat_minor": 2
}
