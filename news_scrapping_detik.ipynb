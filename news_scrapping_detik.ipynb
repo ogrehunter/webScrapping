{
 "cells": [
  {
   "cell_type": "code",
   "execution_count": 1,
   "metadata": {},
   "outputs": [],
   "source": [
    "from bs4 import BeautifulSoup as bs\n",
    "import urllib"
   ]
  },
  {
   "cell_type": "code",
   "execution_count": 2,
   "metadata": {},
   "outputs": [
    {
     "name": "stdout",
     "output_type": "stream",
     "text": [
      "b'<!DOCTYPE html>\\n<html>\\n<head>\\n    <title>Indeks berita terbaru hari ini dari isu terkini di indonesia</title>\\n<meta name=\"description\" content=\"Indeks berita terbaru hari ini dari peristiwa, kecelakaan, kriminal, hukum, berita unik, Politik, dan liputan khusus di Indonesia dan Internasional\" itemprop=\"description\" />\\n<meta charset=\"utf-8\">\\n<meta http-equiv=\"X-UA-Compatible\" content=\"text/html; charset=UTF-8\" />\\n<meta name=\"viewport\" content=\"width=device-width, initial-scale=1.0\" />\\n<link href=\"https://plus.google.com/+detikcom\" rel=\"publisher\" />\\n\\n\\t\\t<meta property=\"og:type\" content=\"article\" />\\n\\t\\t<meta property=\"og:site_name\" content=\"detiknews\" />\\n\\t\\t<meta property=\"og:title\" content=\"Indeks berita terbaru hari ini dari isu terkini di indonesia\" />\\n\\t\\t<meta property=\"og:image\" content=\"https://akcdn.detik.net.id/logo_tematik/logodetiknews.png\" />\\n\\t\\t<meta property=\"og:description\" content=\"Indeks berita terbaru hari ini dari peristiwa, kecelakaan, kriminal, hukum, berita unik, Politik, dan liputan khusus di Indonesia dan Internasional\" />\\n\\t\\t<meta property=\"og:url\" content=\"https://news.detik.com/indeks/all\" />\\n\\t\\t<meta property=\"fb:app_id\" content=\"187960271237149\" />\\n\\t\\t<meta property=\"fb:admins\" content=\"100000607566694\" />\\n\\t\\t<meta property=\"og:image:type\" content=\"image/jpeg\" />\\n\\t\\t<meta property=\"og:image:width\" content=\"650\" />\\n\\t\\t<meta property=\"og:image:height\" content=\"366\" />\\n<meta name=\"copyright\" content=\"detiknews\" itemprop=\"dateline\" />\\n<meta name=\"p:domain_verify\" content=\"405e0728202749df914f7811375e18a0\" />\\n<meta name=\"robots\" content=\"index, follow\" />\\n<meta content=\"Indeks berita terbaru hari ini dari peristiwa, kecelakaan, kriminal, hukum, berita unik, Politik, dan liputan khusus di Indonesia dan Internasional\" itemprop=\"headline\" />\\n<meta name=\"keywords\" content=\"berita hari ini, berita terkini, info berita, peristiwa, kecelakaan, kriminal, hukum, berita unik, Politik, liputan khusus, Indonesia, Internasional\" itemprop=\"keywords\" />\\n<meta name=\"thumbn'...\n"
     ]
    }
   ],
   "source": [
    "url = 'https://news.detik.com/indeks/all'\n",
    "html = urllib.request.urlopen(url).read()\n",
    "print(str(html[:2000])+'...')"
   ]
  },
  {
   "cell_type": "code",
   "execution_count": 3,
   "metadata": {},
   "outputs": [
    {
     "data": {
      "text/plain": [
       "['https://news.detik.com/berita-jawa-tengah/d-4275447/ngerinya-temuan-mayat-dicor-dalam-drum-di-sukoharjo',\n",
       " 'https://news.detik.com/internasional/d-4275448/pelaku-teror-ancaman-bom-di-as-ditangkap-ternyata-pendukung-trump',\n",
       " 'https://news.detik.com/berita-jawa-tengah/d-4275431/polisi-selidiki-kasus-pelemparan-kantor-nahdliyyin-center',\n",
       " 'https://news.detik.com/berita/d-4275414/kader-pks-ramai-ramai-mundur-sandiaga-pks-partai-solid',\n",
       " 'https://news.detik.com/berita/d-4275406/sandi-prabowo-sandi-memimpin-mungkin-susi-juga-yang-urus-nelayan',\n",
       " 'https://news.detik.com/berita/d-4275402/komisi-viii-siap-bahas-draf-sandingan-ruu-pesantren-versi-kemenag',\n",
       " 'https://news.detik.com/berita-jawa-timur/d-4275388/3500-warga-magetan-terdampak-kekeringan-pemkab-dropping-air',\n",
       " 'https://news.detik.com/detiktv/d-4275384/inilah-arti-dari-sontoloyo-yang-dipopulerkan-jokowi',\n",
       " 'https://news.detik.com/berita/d-4275403/jokowi-singgung-politik-sontoloyo-sandi-usung-milenial-ojo-loyo',\n",
       " 'https://news.detik.com/bbc-world/d-4275363/pengadilan-ham-eropa-menghina-nabi-muhammad-bukan-kebebasan-berekspresi',\n",
       " 'https://news.detik.com/bbc-world/d-4275369/investigasi-bbc-china-bangun-kamp-rahasia-untuk-didik-uighur',\n",
       " 'https://news.detik.com/foto-news/d-4275375/daerah-terdampak-likuifaksi-di-palu-diratakan',\n",
       " 'https://news.detik.com/berita/d-4275372/ott-ke-25-kpk-yang-jerat-anggota-dprd-kalimantan-tengah',\n",
       " 'https://news.detik.com/berita/d-4275368/terima-keluhan-menag-segera-buat-draf-sandingan-ruu-pesantren',\n",
       " 'https://news.detik.com/berita/d-4275366/ada-kecelakaan-truk-tol-cikarang-arah-jakarta-macet-13-km',\n",
       " 'https://news.detik.com/berita-jawa-timur/d-4275364/lebih-dekat-dengan-wisnu-penggagas-beragam-festival-di-ponorogo',\n",
       " 'https://news.detik.com/berita/d-4275345/ungkit-dosa-partai-lama-psi-hubungan-di-koalisi-jokowi-baik',\n",
       " 'https://news.detik.com/berita/d-4275338/ott-dprd-kalteng-kpk-dalami-pengawasan-pembuangan-limbah-sawit',\n",
       " 'https://news.detik.com/berita/d-4275336/nasdem-ke-psi-kalau-menggeneralisir-lembaga-orang-pasti-marah',\n",
       " 'https://news.detik.com/berita-jawa-timur/d-4275334/kreasi-unik-siswa-smk-di-lamongan-helm-yang-bisa-isi-daya-ponsel']"
      ]
     },
     "execution_count": 3,
     "metadata": {},
     "output_type": "execute_result"
    }
   ],
   "source": [
    "soup = bs(html,'lxml')\n",
    "divs = soup.find_all('div', attrs={'class':'desc_idx ml10'})\n",
    "\n",
    "news_links = []\n",
    "for div in divs:\n",
    "    news_links.append(div.a['href'])\n",
    "news_links"
   ]
  },
  {
   "cell_type": "code",
   "execution_count": 4,
   "metadata": {},
   "outputs": [
    {
     "data": {
      "text/plain": [
       "['Ngerinya Temuan Mayat Dicor Dalam Drum di Sukoharjo',\n",
       " 'Polisi Selidiki Kasus Pelemparan Kantor Nahdliyyin Center',\n",
       " 'Kader PKS Ramai-ramai Mundur, Sandiaga: PKS Partai Solid',\n",
       " 'Sandi: Prabowo-Sandi Memimpin, Mungkin Susi Juga yang Urus Nelayan',\n",
       " 'Komisi VIII Siap Bahas Draf Sandingan RUU Pesantren Versi Kemenag',\n",
       " '3.500 Warga Magetan Terdampak Kekeringan, Pemkab Dropping Air',\n",
       " 'Jokowi Singgung Politik Sontoloyo, Sandi Usung Milenial Ojo Loyo',\n",
       " 'OTT ke-25 KPK yang Jerat Anggota DPRD Kalimantan Tengah',\n",
       " 'Terima Keluhan, Menag Segera Buat Draf Sandingan RUU Pesantren',\n",
       " 'Ada Kecelakaan Truk, Tol Cikarang Arah Jakarta Macet 13 Km',\n",
       " 'Lebih Dekat dengan Wisnu, Penggagas Beragam Festival di Ponorogo',\n",
       " \"Ungkit 'Dosa Partai Lama', PSI: Hubungan di Koalisi Jokowi Baik\",\n",
       " 'OTT DPRD Kalteng, KPK Dalami Pengawasan Pembuangan Limbah Sawit',\n",
       " 'NasDem ke PSI: Kalau Menggeneralisir Lembaga, Orang Pasti Marah',\n",
       " 'Kreasi Unik Siswa SMK di Lamongan, Helm yang Bisa Isi Daya Ponsel']"
      ]
     },
     "execution_count": 4,
     "metadata": {},
     "output_type": "execute_result"
    }
   ],
   "source": [
    "titles = []\n",
    "articles = []    \n",
    "for news_link in news_links:\n",
    "    if 'https://news.detik.com/berita' in news_link:\n",
    "        sub_url = news_link\n",
    "        sub_html = urllib.request.urlopen(sub_url).read()\n",
    "        sub_soup = bs(sub_html,'lxml')\n",
    "        \n",
    "        title = sub_soup.find_all('div', attrs={'class':'jdl'})[0].h1.text\n",
    "        article = sub_soup.find_all('div', attrs={'class':'detail_text'})[0].text\n",
    "        \n",
    "        titles.append(title)\n",
    "        articles.append(article)\n",
    "titles"
   ]
  },
  {
   "cell_type": "code",
   "execution_count": null,
   "metadata": {},
   "outputs": [],
   "source": [
    "for page in range(2,20):\n",
    "    url = 'https://news.detik.com/indeks/all/'+str(page)\n",
    "    html = urllib.request.urlopen(url).read()\n",
    "    \n",
    "    soup = bs(html,'lxml')\n",
    "    divs = soup.find_all('div', attrs={'class':'desc_idx ml10'})\n",
    "    \n",
    "    news_links = []\n",
    "    for div in divs:\n",
    "        news_links.append(div.a['href'])\n",
    "        \n",
    "    for news_link in news_links:\n",
    "        if 'https://news.detik.com/berita' in news_link:\n",
    "            sub_url = news_link\n",
    "            sub_html = urllib.request.urlopen(sub_url).read()\n",
    "            sub_soup = bs(sub_html,'lxml')\n",
    "            \n",
    "            title = sub_soup.find_all('div', attrs={'class':'jdl'})[0].h1.text\n",
    "            article = sub_soup.find_all('div', attrs={'class':'detail_text'})[0].text\n",
    "            \n",
    "            titles.append(title)\n",
    "            articles.append(article)"
   ]
  },
  {
   "cell_type": "code",
   "execution_count": null,
   "metadata": {},
   "outputs": [],
   "source": [
    "import pandas as pd\n",
    "table = pd.DataFrame(columns = ['title','article'])\n",
    "\n",
    "table['title'] = titles\n",
    "table['article'] = articles\n",
    "\n",
    "table.head(16)"
   ]
  },
  {
   "cell_type": "code",
   "execution_count": 13,
   "metadata": {},
   "outputs": [],
   "source": [
    "writer = pd.ExcelWriter('result.xlsx')\n",
    "table.to_excel(writer,'Sheet1',index=False)\n",
    "writer.save()"
   ]
  },
  {
   "cell_type": "code",
   "execution_count": null,
   "metadata": {},
   "outputs": [],
   "source": []
  }
 ],
 "metadata": {
  "kernelspec": {
   "display_name": "Python 3",
   "language": "python",
   "name": "python3"
  },
  "language_info": {
   "codemirror_mode": {
    "name": "ipython",
    "version": 3
   },
   "file_extension": ".py",
   "mimetype": "text/x-python",
   "name": "python",
   "nbconvert_exporter": "python",
   "pygments_lexer": "ipython3",
   "version": "3.6.6"
  }
 },
 "nbformat": 4,
 "nbformat_minor": 2
}
