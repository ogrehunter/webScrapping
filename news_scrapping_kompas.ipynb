{
 "cells": [
  {
   "cell_type": "code",
   "execution_count": 1,
   "metadata": {},
   "outputs": [],
   "source": [
    "from bs4 import BeautifulSoup as bs\n",
    "import urllib"
   ]
  },
  {
   "cell_type": "code",
   "execution_count": 2,
   "metadata": {},
   "outputs": [
    {
     "name": "stdout",
     "output_type": "stream",
     "text": [
      "b'<!-- 0.1 --><!--Python-urllib/3.6--><!DOCTYPE html>\\n<html lang=\"en\">\\n<head>\\n    \\n\\n    \\n\\n<!-- Google Tag Manager -->\\n<script>(function(w,d,s,l,i){w[l]=w[l]||[];w[l].push({\\'gtm.start\\':\\nnew Date().getTime(),event:\\'gtm.js\\'});var f=d.getElementsByTagName(s)[0],\\nj=d.createElement(s),dl=l!=\\'dataLayer\\'?\\'&l=\\'+l:\\'\\';j.async=true;j.src=\\n\\'https://www.googletagmanager.com/gtm.js?id=\\'+i+dl;f.parentNode.insertBefore(j,f);\\n})(window,document,\\'script\\',\\'dataLayer\\',\\'GTM-PT7PC4\\');</script>\\n<!-- End Google Tag Manager -->\\n<meta charset=\"utf-8\">\\n<meta http-equiv=\"X-UA-Compatible\" content=\"IE=edge,chrome=1\">\\n<meta name=\"viewport\" content=\"width=device-width\">\\n<meta name=\"description\" content=\"Mereka menyesalkan terjadinya pembakaran bendera saat peringatan Hari Santri di Garut, Jawa Barat, Senin (22/10/2018).\">\\n<meta name=\"keywords\" content=\"Berita Terkini, Berita Hari Ini, Breaking News, News Today, News, Hot News, Berita Internasional, Berita Dunia, Berita Nasional, Berita politik, Berita kriminal, Berita Ekonomi Bisnis, Berita Olahraga, Megapolitan, Berita Harian, Berita Akurat, Berita Tepercaya, Kompas\">\\n<meta name=\"googlebot-news\" content=\"index,follow\" />\\n<meta  name=\"googlebot\" content=\"index,follow\" />\\n<meta name=\"author\" content=\"Kompas Cyber Media\">\\n<meta name=\"robots\" content=\"index, follow\" />\\n<meta name=\"language\" content=\"id\" />\\n<meta name=\"geo.country\" content=\"id\" />\\n<meta http-equiv=\"content-language\" content=\"In-Id\" />\\n<meta name=\"geo.placename\" content=\"Indonesia\" />\\n\\n<!-- S:fb meta -->\\n<meta property=\"og:type\" content=\"article\" />\\n<meta property=\"og:image\" content=\"https://asset.kompas.com/data/2017/wp/images/og_facebook.jpg\" />\\n<meta property=\"og:title\" content=\"Indeks Berita News\" />\\n<meta property=\"og:description\" content=\"Mereka menyesalkan terjadinya pembakaran bendera saat peringatan Hari Santri di Garut, Jawa Barat, Senin (22/10/2018).\">\\n<meta property=\"og:url\" content=\"https://www.kompas.com/\" />\\n<meta property=\"og:site_name\" content=\"KOMPAS.com\" />\\n<meta proper'...\n"
     ]
    }
   ],
   "source": [
    "url = 'https://news.kompas.com/search/all/'\n",
    "html = urllib.request.urlopen(url).read()\n",
    "print(str(html[:2000])+'...')"
   ]
  },
  {
   "cell_type": "code",
   "execution_count": 3,
   "metadata": {},
   "outputs": [
    {
     "data": {
      "text/plain": [
       "['https://nasional.kompas.com/read/2018/10/26/23573851/ini-yang-dibahas-wapres-bersama-pimpinan-ormas-islam',\n",
       " 'https://internasional.kompas.com/read/2018/10/26/23564041/macron-jerman-telah-menghasut-penghentian-ekspor-senjata-ke-saudi',\n",
       " 'https://regional.kompas.com/read/2018/10/26/23465701/setelah-terkam-2-warga-harimau-kembali-memangsa-sapi-di-riau',\n",
       " 'https://regional.kompas.com/read/2018/10/26/23401051/kemenhub-tilang-belasan-bus-pariwisata-tak-layak-jalan-di-borobudur',\n",
       " 'https://internasional.kompas.com/read/2018/10/26/23333211/presiden-xi-perintahkan-militernya-bersiap-untuk-berperang',\n",
       " 'https://regional.kompas.com/read/2018/10/26/23045641/pembawa-bendera-pada-perayaan-hsn-di-garut-jadi-tersangka',\n",
       " 'https://internasional.kompas.com/read/2018/10/26/23012541/anak-usia-5-tahun-setir-mobil-mainan-di-jalan-raya-orangtua-ditilang',\n",
       " 'https://nasional.kompas.com/read/2018/10/26/22522401/respons-kubu-prabowo-sandiaga-terhadap-putusan-bawaslu-terkait-hoaks-ratna',\n",
       " 'https://megapolitan.kompas.com/read/2018/10/26/22341631/sedan-serempet-motor-di-kemang-warga-berkerumun-dan-picu-kemacetan',\n",
       " 'https://internasional.kompas.com/read/2018/10/26/22295381/fbi-tangkap-tersangka-pengirim-paket-mencurigakan',\n",
       " 'https://internasional.kompas.com/read/2018/10/26/22264311/presiden-perancis-kritik-keputusan-belgia-beli-f-35-dari-as',\n",
       " 'https://megapolitan.kompas.com/read/2018/10/26/22212831/ke-pasar-minggu-beli-serabi-jangan-parkir-sembarangan-beiby',\n",
       " 'https://internasional.kompas.com/read/2018/10/26/22133701/terkait-kematian-khashoggi-jaksa-saudi-kunjungi-turki',\n",
       " 'https://megapolitan.kompas.com/read/2018/10/26/22092511/nanik-s-deyang-bantah-ponselnya-disita-untuk-jadi-barang-bukti-kasus',\n",
       " 'https://megapolitan.kompas.com/read/2018/10/26/21580181/airin-ada-pegawai-yang-sedikit-sedikit-mengeluh-minta-pindah',\n",
       " 'https://regional.kompas.com/read/2018/10/26/21565511/seorang-warga-ciptakan-aplikasi-lengkap-tentang-labuan-bajo',\n",
       " 'https://nasional.kompas.com/read/2018/10/26/21553571/anggota-dprd-kalteng-yang-ditangkap-kpk-sebanyak-8-orang']"
      ]
     },
     "execution_count": 3,
     "metadata": {},
     "output_type": "execute_result"
    }
   ],
   "source": [
    "soup = bs(html,'lxml')\n",
    "divs = soup.find_all('div', attrs={'class':'article__list__title'})\n",
    "\n",
    "news_links = []\n",
    "for div in divs:\n",
    "    news_links.append(div.a['href'])\n",
    "    \n",
    "news_links"
   ]
  },
  {
   "cell_type": "code",
   "execution_count": 4,
   "metadata": {},
   "outputs": [
    {
     "data": {
      "text/plain": [
       "['Ini yang Dibahas Wapres Bersama Pimpinan Ormas Islam ',\n",
       " 'Macron: Jerman Telah Menghasut Penghentian Ekspor Senjata ke Saudi',\n",
       " 'Setelah Terkam 2 Warga, Harimau Kembali Memangsa Sapi di Riau',\n",
       " 'Kemenhub Tilang Belasan Bus Pariwisata Tak Layak Jalan di Borobudur',\n",
       " 'Presiden Xi Perintahkan Militernya Bersiap untuk Berperang',\n",
       " 'Pembawa Bendera pada Perayaan HSN di Garut Jadi Tersangka',\n",
       " 'Anak Usia 5 Tahun Setir Mobil Mainan di Jalan Raya, Orangtua Ditilang',\n",
       " 'Respons Kubu Prabowo-Sandiaga terhadap Putusan Bawaslu Terkait Hoaks Ratna Sarumpaet',\n",
       " 'Sedan Serempet Motor di Kemang, Warga Berkerumun dan Picu Kemacetan',\n",
       " 'FBI Tangkap Tersangka Pengirim Paket Mencurigakan',\n",
       " 'Presiden Perancis Kritik Keputusan Belgia Beli F-35 dari AS',\n",
       " '\"Ke Pasar Minggu Beli Serabi, Jangan Parkir Sembarangan Beiby\"',\n",
       " 'Terkait Kematian Khashoggi, Jaksa Saudi Kunjungi Turki',\n",
       " 'Nanik S Deyang Bantah Ponselnya Disita untuk Jadi Barang Bukti Kasus Hoaks Ratna Sarumpaet',\n",
       " 'Airin: Ada Pegawai yang Sedikit-Sedikit Mengeluh, Minta Pindah...',\n",
       " 'Seorang Warga Ciptakan Aplikasi Lengkap tentang Labuan Bajo',\n",
       " 'Anggota DPRD Kalteng yang Ditangkap KPK Sebanyak 8 Orang']"
      ]
     },
     "execution_count": 4,
     "metadata": {},
     "output_type": "execute_result"
    }
   ],
   "source": [
    "titles = []\n",
    "articles = []    \n",
    "for news_link in news_links:\n",
    "    if 'kompas.com' in news_link:\n",
    "        sub_url = news_link\n",
    "        sub_html = urllib.request.urlopen(sub_url).read()\n",
    "        sub_soup = bs(sub_html,'lxml')\n",
    "        \n",
    "        title = sub_soup.find_all('div', attrs={'class':'col-bs10-10'})[0].h1.text\n",
    "        article = sub_soup.find_all('div', attrs={'class':'read__content'})[0].text\n",
    "        \n",
    "        titles.append(title)\n",
    "        articles.append(article)\n",
    "titles"
   ]
  },
  {
   "cell_type": "code",
   "execution_count": 6,
   "metadata": {},
   "outputs": [],
   "source": [
    "for page in range(2,20):\n",
    "    url = 'https://news.kompas.com/search/all/'+str(page)\n",
    "    html = urllib.request.urlopen(url).read()\n",
    "    \n",
    "    soup = bs(html,'lxml')\n",
    "    divs = soup.find_all('div', attrs={'class':'article__list__title'})\n",
    "    \n",
    "    news_links = []\n",
    "    for div in divs:\n",
    "        news_links.append(div.a['href'])\n",
    "        \n",
    "    for news_link in news_links:\n",
    "        if 'kompas.com' in news_link:\n",
    "            sub_url = news_link\n",
    "            sub_html = urllib.request.urlopen(sub_url).read()\n",
    "            sub_soup = bs(sub_html,'lxml')\n",
    "            \n",
    "            title = sub_soup.find_all('div', attrs={'class':'col-bs10-10'})[0].h1.text\n",
    "            article = sub_soup.find_all('div', attrs={'class':'read__content'})[0].text\n",
    "            \n",
    "            titles.append(title)\n",
    "            articles.append(article)"
   ]
  },
  {
   "cell_type": "code",
   "execution_count": 7,
   "metadata": {},
   "outputs": [],
   "source": [
    "import pandas as pd\n",
    "table = pd.DataFrame(columns = ['title','article'])"
   ]
  },
  {
   "cell_type": "code",
   "execution_count": 8,
   "metadata": {},
   "outputs": [
    {
     "data": {
      "text/html": [
       "<div>\n",
       "<style scoped>\n",
       "    .dataframe tbody tr th:only-of-type {\n",
       "        vertical-align: middle;\n",
       "    }\n",
       "\n",
       "    .dataframe tbody tr th {\n",
       "        vertical-align: top;\n",
       "    }\n",
       "\n",
       "    .dataframe thead th {\n",
       "        text-align: right;\n",
       "    }\n",
       "</style>\n",
       "<table border=\"1\" class=\"dataframe\">\n",
       "  <thead>\n",
       "    <tr style=\"text-align: right;\">\n",
       "      <th></th>\n",
       "      <th>title</th>\n",
       "      <th>article</th>\n",
       "    </tr>\n",
       "  </thead>\n",
       "  <tbody>\n",
       "    <tr>\n",
       "      <th>0</th>\n",
       "      <td>Ini yang Dibahas Wapres Bersama Pimpinan Ormas...</td>\n",
       "      <td>\\nJAKARTA, KOMPAS.com - Para pimpinan ormas Is...</td>\n",
       "    </tr>\n",
       "    <tr>\n",
       "      <th>1</th>\n",
       "      <td>Macron: Jerman Telah Menghasut Penghentian Eks...</td>\n",
       "      <td>\\nPARIS, KOMPAS.com - Kanselir  Jerman Angela ...</td>\n",
       "    </tr>\n",
       "    <tr>\n",
       "      <th>2</th>\n",
       "      <td>Setelah Terkam 2 Warga, Harimau Kembali Memang...</td>\n",
       "      <td>\\n PEKANBARU, KOMPAS.com - Seekor sapi milik w...</td>\n",
       "    </tr>\n",
       "    <tr>\n",
       "      <th>3</th>\n",
       "      <td>Kemenhub Tilang Belasan Bus Pariwisata Tak Lay...</td>\n",
       "      <td>\\nMAGELANG, KOMPAS.com - Satu per satu  bus pa...</td>\n",
       "    </tr>\n",
       "    <tr>\n",
       "      <th>4</th>\n",
       "      <td>Presiden Xi Perintahkan Militernya Bersiap unt...</td>\n",
       "      <td>\\nBEIJING, KOMPAS.com - Presiden  Xi Jinping t...</td>\n",
       "    </tr>\n",
       "    <tr>\n",
       "      <th>5</th>\n",
       "      <td>Pembawa Bendera pada Perayaan HSN di Garut Jad...</td>\n",
       "      <td>\\nBANDUNG, KOMPAS.com - Polisi menaikkan statu...</td>\n",
       "    </tr>\n",
       "    <tr>\n",
       "      <th>6</th>\n",
       "      <td>Anak Usia 5 Tahun Setir Mobil Mainan di Jalan ...</td>\n",
       "      <td>\\nYONGKANG, KOMPAS.com - Pasangan orangtua di ...</td>\n",
       "    </tr>\n",
       "    <tr>\n",
       "      <th>7</th>\n",
       "      <td>Respons Kubu Prabowo-Sandiaga terhadap Putusan...</td>\n",
       "      <td>\\nJAKARTA, KOMPAS.com - Wakil Ketua Badan Peme...</td>\n",
       "    </tr>\n",
       "    <tr>\n",
       "      <th>8</th>\n",
       "      <td>Sedan Serempet Motor di Kemang, Warga Berkerum...</td>\n",
       "      <td>\\nJAKARTA, KOMPAS.com - Kemacetan terjadi di k...</td>\n",
       "    </tr>\n",
       "    <tr>\n",
       "      <th>9</th>\n",
       "      <td>FBI Tangkap Tersangka Pengirim Paket Mencurigakan</td>\n",
       "      <td>\\nWASHINGTON DC, KOMPAS.com -  FBI dikabarkan ...</td>\n",
       "    </tr>\n",
       "    <tr>\n",
       "      <th>10</th>\n",
       "      <td>Presiden Perancis Kritik Keputusan Belgia Beli...</td>\n",
       "      <td>\\nPARIS, KOMPAS.com - Keputusan pemerintah  Be...</td>\n",
       "    </tr>\n",
       "    <tr>\n",
       "      <th>11</th>\n",
       "      <td>\"Ke Pasar Minggu Beli Serabi, Jangan Parkir Se...</td>\n",
       "      <td>\\nJAKARTA, KOMPAS.com - \"Ke Pasar Minggu Beli ...</td>\n",
       "    </tr>\n",
       "    <tr>\n",
       "      <th>12</th>\n",
       "      <td>Terkait Kematian Khashoggi, Jaksa Saudi Kunjun...</td>\n",
       "      <td>\\nANKARA, KOMPAS.com - Presiden  Turki Recep T...</td>\n",
       "    </tr>\n",
       "    <tr>\n",
       "      <th>13</th>\n",
       "      <td>Nanik S Deyang Bantah Ponselnya Disita untuk J...</td>\n",
       "      <td>\\nJAKARTA, KOMPAS.com - Wakil Ketua Tim Badan ...</td>\n",
       "    </tr>\n",
       "    <tr>\n",
       "      <th>14</th>\n",
       "      <td>Airin: Ada Pegawai yang Sedikit-Sedikit Mengel...</td>\n",
       "      <td>\\nTANGERANG SELATAN, KOMPAS.com -  Wali Kota T...</td>\n",
       "    </tr>\n",
       "    <tr>\n",
       "      <th>15</th>\n",
       "      <td>Seorang Warga Ciptakan Aplikasi Lengkap tentan...</td>\n",
       "      <td>\\n LABUAN BAJO, KOMPAS.com - Werry Tan, seoran...</td>\n",
       "    </tr>\n",
       "  </tbody>\n",
       "</table>\n",
       "</div>"
      ],
      "text/plain": [
       "                                                title  \\\n",
       "0   Ini yang Dibahas Wapres Bersama Pimpinan Ormas...   \n",
       "1   Macron: Jerman Telah Menghasut Penghentian Eks...   \n",
       "2   Setelah Terkam 2 Warga, Harimau Kembali Memang...   \n",
       "3   Kemenhub Tilang Belasan Bus Pariwisata Tak Lay...   \n",
       "4   Presiden Xi Perintahkan Militernya Bersiap unt...   \n",
       "5   Pembawa Bendera pada Perayaan HSN di Garut Jad...   \n",
       "6   Anak Usia 5 Tahun Setir Mobil Mainan di Jalan ...   \n",
       "7   Respons Kubu Prabowo-Sandiaga terhadap Putusan...   \n",
       "8   Sedan Serempet Motor di Kemang, Warga Berkerum...   \n",
       "9   FBI Tangkap Tersangka Pengirim Paket Mencurigakan   \n",
       "10  Presiden Perancis Kritik Keputusan Belgia Beli...   \n",
       "11  \"Ke Pasar Minggu Beli Serabi, Jangan Parkir Se...   \n",
       "12  Terkait Kematian Khashoggi, Jaksa Saudi Kunjun...   \n",
       "13  Nanik S Deyang Bantah Ponselnya Disita untuk J...   \n",
       "14  Airin: Ada Pegawai yang Sedikit-Sedikit Mengel...   \n",
       "15  Seorang Warga Ciptakan Aplikasi Lengkap tentan...   \n",
       "\n",
       "                                              article  \n",
       "0   \\nJAKARTA, KOMPAS.com - Para pimpinan ormas Is...  \n",
       "1   \\nPARIS, KOMPAS.com - Kanselir  Jerman Angela ...  \n",
       "2   \\n PEKANBARU, KOMPAS.com - Seekor sapi milik w...  \n",
       "3   \\nMAGELANG, KOMPAS.com - Satu per satu  bus pa...  \n",
       "4   \\nBEIJING, KOMPAS.com - Presiden  Xi Jinping t...  \n",
       "5   \\nBANDUNG, KOMPAS.com - Polisi menaikkan statu...  \n",
       "6   \\nYONGKANG, KOMPAS.com - Pasangan orangtua di ...  \n",
       "7   \\nJAKARTA, KOMPAS.com - Wakil Ketua Badan Peme...  \n",
       "8   \\nJAKARTA, KOMPAS.com - Kemacetan terjadi di k...  \n",
       "9   \\nWASHINGTON DC, KOMPAS.com -  FBI dikabarkan ...  \n",
       "10  \\nPARIS, KOMPAS.com - Keputusan pemerintah  Be...  \n",
       "11  \\nJAKARTA, KOMPAS.com - \"Ke Pasar Minggu Beli ...  \n",
       "12  \\nANKARA, KOMPAS.com - Presiden  Turki Recep T...  \n",
       "13  \\nJAKARTA, KOMPAS.com - Wakil Ketua Tim Badan ...  \n",
       "14  \\nTANGERANG SELATAN, KOMPAS.com -  Wali Kota T...  \n",
       "15  \\n LABUAN BAJO, KOMPAS.com - Werry Tan, seoran...  "
      ]
     },
     "execution_count": 8,
     "metadata": {},
     "output_type": "execute_result"
    }
   ],
   "source": [
    "table['title'] = titles\n",
    "table['article'] = articles\n",
    "\n",
    "table.head(16)"
   ]
  },
  {
   "cell_type": "code",
   "execution_count": 9,
   "metadata": {},
   "outputs": [],
   "source": [
    "writer = pd.ExcelWriter('kompas.xlsx')\n",
    "table.to_excel(writer,'Sheet1',index=False)\n",
    "writer.save()"
   ]
  },
  {
   "cell_type": "code",
   "execution_count": null,
   "metadata": {},
   "outputs": [],
   "source": []
  }
 ],
 "metadata": {
  "kernelspec": {
   "display_name": "Python 3",
   "language": "python",
   "name": "python3"
  },
  "language_info": {
   "codemirror_mode": {
    "name": "ipython",
    "version": 3
   },
   "file_extension": ".py",
   "mimetype": "text/x-python",
   "name": "python",
   "nbconvert_exporter": "python",
   "pygments_lexer": "ipython3",
   "version": "3.6.6"
  }
 },
 "nbformat": 4,
 "nbformat_minor": 2
}
